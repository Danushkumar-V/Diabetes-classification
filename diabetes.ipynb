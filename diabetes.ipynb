{
 "cells": [
  {
   "cell_type": "code",
   "execution_count": 80,
   "id": "4477b034",
   "metadata": {},
   "outputs": [
    {
     "data": {
      "text/html": [
       "<div>\n",
       "<style scoped>\n",
       "    .dataframe tbody tr th:only-of-type {\n",
       "        vertical-align: middle;\n",
       "    }\n",
       "\n",
       "    .dataframe tbody tr th {\n",
       "        vertical-align: top;\n",
       "    }\n",
       "\n",
       "    .dataframe thead th {\n",
       "        text-align: right;\n",
       "    }\n",
       "</style>\n",
       "<table border=\"1\" class=\"dataframe\">\n",
       "  <thead>\n",
       "    <tr style=\"text-align: right;\">\n",
       "      <th></th>\n",
       "      <th>preg</th>\n",
       "      <th>plas</th>\n",
       "      <th>pres</th>\n",
       "      <th>skin</th>\n",
       "      <th>insu</th>\n",
       "      <th>mass</th>\n",
       "      <th>pedi</th>\n",
       "      <th>age</th>\n",
       "      <th>class</th>\n",
       "    </tr>\n",
       "  </thead>\n",
       "  <tbody>\n",
       "    <tr>\n",
       "      <th>0</th>\n",
       "      <td>6</td>\n",
       "      <td>148</td>\n",
       "      <td>72</td>\n",
       "      <td>35</td>\n",
       "      <td>0</td>\n",
       "      <td>33.6</td>\n",
       "      <td>0.627</td>\n",
       "      <td>50</td>\n",
       "      <td>tested_positive</td>\n",
       "    </tr>\n",
       "    <tr>\n",
       "      <th>1</th>\n",
       "      <td>1</td>\n",
       "      <td>85</td>\n",
       "      <td>66</td>\n",
       "      <td>29</td>\n",
       "      <td>0</td>\n",
       "      <td>26.6</td>\n",
       "      <td>0.351</td>\n",
       "      <td>31</td>\n",
       "      <td>tested_negative</td>\n",
       "    </tr>\n",
       "    <tr>\n",
       "      <th>2</th>\n",
       "      <td>8</td>\n",
       "      <td>183</td>\n",
       "      <td>64</td>\n",
       "      <td>0</td>\n",
       "      <td>0</td>\n",
       "      <td>23.3</td>\n",
       "      <td>0.672</td>\n",
       "      <td>32</td>\n",
       "      <td>tested_positive</td>\n",
       "    </tr>\n",
       "    <tr>\n",
       "      <th>3</th>\n",
       "      <td>1</td>\n",
       "      <td>89</td>\n",
       "      <td>66</td>\n",
       "      <td>23</td>\n",
       "      <td>94</td>\n",
       "      <td>28.1</td>\n",
       "      <td>0.167</td>\n",
       "      <td>21</td>\n",
       "      <td>tested_negative</td>\n",
       "    </tr>\n",
       "    <tr>\n",
       "      <th>4</th>\n",
       "      <td>0</td>\n",
       "      <td>137</td>\n",
       "      <td>40</td>\n",
       "      <td>35</td>\n",
       "      <td>168</td>\n",
       "      <td>43.1</td>\n",
       "      <td>2.288</td>\n",
       "      <td>33</td>\n",
       "      <td>tested_positive</td>\n",
       "    </tr>\n",
       "    <tr>\n",
       "      <th>5</th>\n",
       "      <td>5</td>\n",
       "      <td>116</td>\n",
       "      <td>74</td>\n",
       "      <td>0</td>\n",
       "      <td>0</td>\n",
       "      <td>25.6</td>\n",
       "      <td>0.201</td>\n",
       "      <td>30</td>\n",
       "      <td>tested_negative</td>\n",
       "    </tr>\n",
       "    <tr>\n",
       "      <th>6</th>\n",
       "      <td>3</td>\n",
       "      <td>78</td>\n",
       "      <td>50</td>\n",
       "      <td>32</td>\n",
       "      <td>88</td>\n",
       "      <td>31.0</td>\n",
       "      <td>0.248</td>\n",
       "      <td>26</td>\n",
       "      <td>tested_positive</td>\n",
       "    </tr>\n",
       "    <tr>\n",
       "      <th>7</th>\n",
       "      <td>10</td>\n",
       "      <td>115</td>\n",
       "      <td>0</td>\n",
       "      <td>0</td>\n",
       "      <td>0</td>\n",
       "      <td>35.3</td>\n",
       "      <td>0.134</td>\n",
       "      <td>29</td>\n",
       "      <td>tested_negative</td>\n",
       "    </tr>\n",
       "    <tr>\n",
       "      <th>8</th>\n",
       "      <td>2</td>\n",
       "      <td>197</td>\n",
       "      <td>70</td>\n",
       "      <td>45</td>\n",
       "      <td>543</td>\n",
       "      <td>30.5</td>\n",
       "      <td>0.158</td>\n",
       "      <td>53</td>\n",
       "      <td>tested_positive</td>\n",
       "    </tr>\n",
       "    <tr>\n",
       "      <th>9</th>\n",
       "      <td>8</td>\n",
       "      <td>125</td>\n",
       "      <td>96</td>\n",
       "      <td>0</td>\n",
       "      <td>0</td>\n",
       "      <td>0.0</td>\n",
       "      <td>0.232</td>\n",
       "      <td>54</td>\n",
       "      <td>tested_positive</td>\n",
       "    </tr>\n",
       "  </tbody>\n",
       "</table>\n",
       "</div>"
      ],
      "text/plain": [
       "   preg  plas  pres  skin  insu  mass   pedi  age            class\n",
       "0     6   148    72    35     0  33.6  0.627   50  tested_positive\n",
       "1     1    85    66    29     0  26.6  0.351   31  tested_negative\n",
       "2     8   183    64     0     0  23.3  0.672   32  tested_positive\n",
       "3     1    89    66    23    94  28.1  0.167   21  tested_negative\n",
       "4     0   137    40    35   168  43.1  2.288   33  tested_positive\n",
       "5     5   116    74     0     0  25.6  0.201   30  tested_negative\n",
       "6     3    78    50    32    88  31.0  0.248   26  tested_positive\n",
       "7    10   115     0     0     0  35.3  0.134   29  tested_negative\n",
       "8     2   197    70    45   543  30.5  0.158   53  tested_positive\n",
       "9     8   125    96     0     0   0.0  0.232   54  tested_positive"
      ]
     },
     "execution_count": 80,
     "metadata": {},
     "output_type": "execute_result"
    }
   ],
   "source": [
    "import pandas as pd\n",
    "from sklearn.tree import DecisionTreeClassifier\n",
    "from sklearn.metrics import classification_report,accuracy_score\n",
    "from sklearn.metrics import mean_absolute_error\n",
    "from sklearn.model_selection import train_test_split\n",
    "\n",
    "diabetes_dataset = pd.read_csv(\"D:\\DK\\Dev\\diabetes\\diabetes_dataset.csv\")\n",
    "diabetes_dataset.head(10)"
   ]
  },
  {
   "cell_type": "code",
   "execution_count": 81,
   "id": "0bf43ee5",
   "metadata": {},
   "outputs": [],
   "source": [
    "## META DATA\n",
    "\n",
    "# 1. Number of times pregnant\n",
    "# 2. Plasma glucose concentration a 2 hours in an oral glucose tolerance test\n",
    "# 3. Diastolic blood pressure (mm Hg)\n",
    "# 4. Triceps skin fold thickness (mm)\n",
    "# 5. 2-Hour serum insulin (mu U/ml)\n",
    "# 6. Body mass index (weight in kg/(height in m)^2)\n",
    "# 7. Diabetes pedigree function\n",
    "# 8. Age (years)\n",
    "# 9. Class variable (0 or 1)  "
   ]
  },
  {
   "cell_type": "code",
   "execution_count": 82,
   "id": "b0fdb767",
   "metadata": {},
   "outputs": [
    {
     "data": {
      "text/plain": [
       "preg     0\n",
       "plas     0\n",
       "pres     0\n",
       "skin     0\n",
       "insu     0\n",
       "mass     0\n",
       "pedi     0\n",
       "age      0\n",
       "class    0\n",
       "dtype: int64"
      ]
     },
     "execution_count": 82,
     "metadata": {},
     "output_type": "execute_result"
    }
   ],
   "source": [
    "diabetes_dataset.isnull().sum()"
   ]
  },
  {
   "cell_type": "code",
   "execution_count": 83,
   "id": "d27ada0d",
   "metadata": {},
   "outputs": [
    {
     "data": {
      "text/plain": [
       "<bound method DataFrame.value_counts of      preg  plas  pres  skin  insu  mass   pedi  age            class\n",
       "0       6   148    72    35     0  33.6  0.627   50  tested_positive\n",
       "1       1    85    66    29     0  26.6  0.351   31  tested_negative\n",
       "2       8   183    64     0     0  23.3  0.672   32  tested_positive\n",
       "3       1    89    66    23    94  28.1  0.167   21  tested_negative\n",
       "4       0   137    40    35   168  43.1  2.288   33  tested_positive\n",
       "..    ...   ...   ...   ...   ...   ...    ...  ...              ...\n",
       "763    10   101    76    48   180  32.9  0.171   63  tested_negative\n",
       "764     2   122    70    27     0  36.8  0.340   27  tested_negative\n",
       "765     5   121    72    23   112  26.2  0.245   30  tested_negative\n",
       "766     1   126    60     0     0  30.1  0.349   47  tested_positive\n",
       "767     1    93    70    31     0  30.4  0.315   23  tested_negative\n",
       "\n",
       "[768 rows x 9 columns]>"
      ]
     },
     "execution_count": 83,
     "metadata": {},
     "output_type": "execute_result"
    }
   ],
   "source": [
    "diabetes_dataset.value_counts"
   ]
  },
  {
   "cell_type": "code",
   "execution_count": 84,
   "id": "7cc0ccea",
   "metadata": {
    "scrolled": true
   },
   "outputs": [
    {
     "data": {
      "text/plain": [
       "array([ 0,  1,  2,  3,  4,  5,  6,  7,  8,  9, 10, 11, 12, 13, 14, 15, 17],\n",
       "      dtype=int64)"
      ]
     },
     "execution_count": 84,
     "metadata": {},
     "output_type": "execute_result"
    }
   ],
   "source": [
    "a = pd.unique(diabetes_dataset['preg'])\n",
    "a.sort()\n",
    "a"
   ]
  },
  {
   "cell_type": "code",
   "execution_count": 85,
   "id": "29fbad05",
   "metadata": {},
   "outputs": [],
   "source": [
    "def uniqueval(a):\n",
    "    b = pd.unique(diabetes_dataset[a])\n",
    "    b.sort()\n",
    "    return b"
   ]
  },
  {
   "cell_type": "code",
   "execution_count": 64,
   "id": "cc05756b",
   "metadata": {},
   "outputs": [
    {
     "data": {
      "text/plain": [
       "array([  0,  44,  56,  57,  61,  62,  65,  67,  68,  71,  72,  73,  74,\n",
       "        75,  76,  77,  78,  79,  80,  81,  82,  83,  84,  85,  86,  87,\n",
       "        88,  89,  90,  91,  92,  93,  94,  95,  96,  97,  98,  99, 100,\n",
       "       101, 102, 103, 104, 105, 106, 107, 108, 109, 110, 111, 112, 113,\n",
       "       114, 115, 116, 117, 118, 119, 120, 121, 122, 123, 124, 125, 126,\n",
       "       127, 128, 129, 130, 131, 132, 133, 134, 135, 136, 137, 138, 139,\n",
       "       140, 141, 142, 143, 144, 145, 146, 147, 148, 149, 150, 151, 152,\n",
       "       153, 154, 155, 156, 157, 158, 159, 160, 161, 162, 163, 164, 165,\n",
       "       166, 167, 168, 169, 170, 171, 172, 173, 174, 175, 176, 177, 178,\n",
       "       179, 180, 181, 182, 183, 184, 186, 187, 188, 189, 190, 191, 193,\n",
       "       194, 195, 196, 197, 198, 199], dtype=int64)"
      ]
     },
     "execution_count": 64,
     "metadata": {},
     "output_type": "execute_result"
    }
   ],
   "source": [
    "uniqueval('plas')"
   ]
  },
  {
   "cell_type": "code",
   "execution_count": 65,
   "id": "598e16a3",
   "metadata": {},
   "outputs": [
    {
     "data": {
      "text/plain": [
       "array([  0,  24,  30,  38,  40,  44,  46,  48,  50,  52,  54,  55,  56,\n",
       "        58,  60,  61,  62,  64,  65,  66,  68,  70,  72,  74,  75,  76,\n",
       "        78,  80,  82,  84,  85,  86,  88,  90,  92,  94,  95,  96,  98,\n",
       "       100, 102, 104, 106, 108, 110, 114, 122], dtype=int64)"
      ]
     },
     "execution_count": 65,
     "metadata": {},
     "output_type": "execute_result"
    }
   ],
   "source": [
    "uniqueval('pres')"
   ]
  },
  {
   "cell_type": "code",
   "execution_count": 66,
   "id": "b7c0e714",
   "metadata": {},
   "outputs": [
    {
     "data": {
      "text/plain": [
       "array([ 0,  7,  8, 10, 11, 12, 13, 14, 15, 16, 17, 18, 19, 20, 21, 22, 23,\n",
       "       24, 25, 26, 27, 28, 29, 30, 31, 32, 33, 34, 35, 36, 37, 38, 39, 40,\n",
       "       41, 42, 43, 44, 45, 46, 47, 48, 49, 50, 51, 52, 54, 56, 60, 63, 99],\n",
       "      dtype=int64)"
      ]
     },
     "execution_count": 66,
     "metadata": {},
     "output_type": "execute_result"
    }
   ],
   "source": [
    "uniqueval('skin')"
   ]
  },
  {
   "cell_type": "code",
   "execution_count": 45,
   "id": "6d993947",
   "metadata": {},
   "outputs": [
    {
     "data": {
      "text/plain": [
       "array([  0,  14,  15,  16,  18,  22,  23,  25,  29,  32,  36,  37,  38,\n",
       "        40,  41,  42,  43,  44,  45,  46,  48,  49,  50,  51,  52,  53,\n",
       "        54,  55,  56,  57,  58,  59,  60,  61,  63,  64,  65,  66,  67,\n",
       "        68,  70,  71,  72,  73,  74,  75,  76,  77,  78,  79,  81,  82,\n",
       "        83,  84,  85,  86,  87,  88,  89,  90,  91,  92,  94,  95,  96,\n",
       "        99, 100, 105, 106, 108, 110, 112, 114, 115, 116, 119, 120, 122,\n",
       "       125, 126, 127, 128, 129, 130, 132, 135, 140, 142, 144, 145, 146,\n",
       "       148, 150, 152, 155, 156, 158, 159, 160, 165, 166, 167, 168, 170,\n",
       "       171, 175, 176, 178, 180, 182, 183, 184, 185, 188, 190, 191, 192,\n",
       "       193, 194, 196, 200, 204, 205, 207, 210, 215, 220, 225, 228, 230,\n",
       "       231, 235, 237, 240, 245, 249, 250, 255, 258, 265, 270, 271, 272,\n",
       "       274, 275, 277, 278, 280, 284, 285, 291, 293, 300, 304, 310, 318,\n",
       "       321, 325, 326, 328, 330, 335, 342, 360, 370, 375, 387, 392, 402,\n",
       "       415, 440, 465, 474, 478, 480, 485, 495, 510, 540, 543, 545, 579,\n",
       "       600, 680, 744, 846], dtype=int64)"
      ]
     },
     "execution_count": 45,
     "metadata": {},
     "output_type": "execute_result"
    }
   ],
   "source": [
    "uniqueval('insu')"
   ]
  },
  {
   "cell_type": "code",
   "execution_count": 46,
   "id": "1a12ecb7",
   "metadata": {},
   "outputs": [
    {
     "data": {
      "text/plain": [
       "array([ 0. , 18.2, 18.4, 19.1, 19.3, 19.4, 19.5, 19.6, 19.9, 20. , 20.1,\n",
       "       20.4, 20.8, 21. , 21.1, 21.2, 21.7, 21.8, 21.9, 22.1, 22.2, 22.3,\n",
       "       22.4, 22.5, 22.6, 22.7, 22.9, 23. , 23.1, 23.2, 23.3, 23.4, 23.5,\n",
       "       23.6, 23.7, 23.8, 23.9, 24. , 24.1, 24.2, 24.3, 24.4, 24.5, 24.6,\n",
       "       24.7, 24.8, 24.9, 25. , 25.1, 25.2, 25.3, 25.4, 25.5, 25.6, 25.8,\n",
       "       25.9, 26. , 26.1, 26.2, 26.3, 26.4, 26.5, 26.6, 26.7, 26.8, 26.9,\n",
       "       27. , 27.1, 27.2, 27.3, 27.4, 27.5, 27.6, 27.7, 27.8, 27.9, 28. ,\n",
       "       28.1, 28.2, 28.3, 28.4, 28.5, 28.6, 28.7, 28.8, 28.9, 29. , 29.2,\n",
       "       29.3, 29.5, 29.6, 29.7, 29.8, 29.9, 30. , 30.1, 30.2, 30.3, 30.4,\n",
       "       30.5, 30.7, 30.8, 30.9, 31. , 31.1, 31.2, 31.3, 31.6, 31.9, 32. ,\n",
       "       32.1, 32.2, 32.3, 32.4, 32.5, 32.6, 32.7, 32.8, 32.9, 33.1, 33.2,\n",
       "       33.3, 33.5, 33.6, 33.7, 33.8, 33.9, 34. , 34.1, 34.2, 34.3, 34.4,\n",
       "       34.5, 34.6, 34.7, 34.8, 34.9, 35. , 35.1, 35.2, 35.3, 35.4, 35.5,\n",
       "       35.6, 35.7, 35.8, 35.9, 36. , 36.1, 36.2, 36.3, 36.4, 36.5, 36.6,\n",
       "       36.7, 36.8, 36.9, 37. , 37.1, 37.2, 37.3, 37.4, 37.5, 37.6, 37.7,\n",
       "       37.8, 37.9, 38. , 38.1, 38.2, 38.3, 38.4, 38.5, 38.6, 38.7, 38.8,\n",
       "       38.9, 39. , 39.1, 39.2, 39.3, 39.4, 39.5, 39.6, 39.7, 39.8, 39.9,\n",
       "       40. , 40.1, 40.2, 40.5, 40.6, 40.7, 40.8, 40.9, 41. , 41.2, 41.3,\n",
       "       41.5, 41.8, 42. , 42.1, 42.2, 42.3, 42.4, 42.6, 42.7, 42.8, 42.9,\n",
       "       43.1, 43.2, 43.3, 43.4, 43.5, 43.6, 44. , 44.1, 44.2, 44.5, 44.6,\n",
       "       45. , 45.2, 45.3, 45.4, 45.5, 45.6, 45.7, 45.8, 46.1, 46.2, 46.3,\n",
       "       46.5, 46.7, 46.8, 47.9, 48.3, 48.8, 49.3, 49.6, 49.7, 50. , 52.3,\n",
       "       52.9, 53.2, 55. , 57.3, 59.4, 67.1])"
      ]
     },
     "execution_count": 46,
     "metadata": {},
     "output_type": "execute_result"
    }
   ],
   "source": [
    "uniqueval('mass')"
   ]
  },
  {
   "cell_type": "code",
   "execution_count": 47,
   "id": "5bdb858c",
   "metadata": {},
   "outputs": [
    {
     "data": {
      "text/plain": [
       "array([0.078, 0.084, 0.085, 0.088, 0.089, 0.092, 0.096, 0.1  , 0.101,\n",
       "       0.102, 0.107, 0.108, 0.115, 0.118, 0.121, 0.122, 0.123, 0.126,\n",
       "       0.127, 0.128, 0.129, 0.13 , 0.133, 0.134, 0.135, 0.136, 0.137,\n",
       "       0.138, 0.14 , 0.141, 0.142, 0.143, 0.144, 0.145, 0.147, 0.148,\n",
       "       0.149, 0.15 , 0.151, 0.153, 0.154, 0.155, 0.156, 0.157, 0.158,\n",
       "       0.159, 0.16 , 0.161, 0.162, 0.163, 0.164, 0.165, 0.166, 0.167,\n",
       "       0.17 , 0.171, 0.173, 0.174, 0.175, 0.176, 0.177, 0.178, 0.179,\n",
       "       0.18 , 0.181, 0.182, 0.183, 0.186, 0.187, 0.188, 0.189, 0.19 ,\n",
       "       0.191, 0.192, 0.194, 0.196, 0.197, 0.198, 0.199, 0.2  , 0.201,\n",
       "       0.203, 0.204, 0.205, 0.206, 0.207, 0.209, 0.21 , 0.212, 0.215,\n",
       "       0.217, 0.218, 0.219, 0.22 , 0.221, 0.222, 0.223, 0.225, 0.226,\n",
       "       0.227, 0.229, 0.23 , 0.231, 0.232, 0.233, 0.234, 0.235, 0.236,\n",
       "       0.237, 0.238, 0.239, 0.24 , 0.241, 0.243, 0.244, 0.245, 0.246,\n",
       "       0.247, 0.248, 0.249, 0.251, 0.252, 0.253, 0.254, 0.255, 0.256,\n",
       "       0.257, 0.258, 0.259, 0.26 , 0.261, 0.262, 0.263, 0.264, 0.265,\n",
       "       0.267, 0.268, 0.269, 0.27 , 0.271, 0.272, 0.277, 0.278, 0.279,\n",
       "       0.28 , 0.282, 0.283, 0.284, 0.285, 0.286, 0.287, 0.289, 0.29 ,\n",
       "       0.292, 0.293, 0.294, 0.295, 0.296, 0.297, 0.299, 0.3  , 0.302,\n",
       "       0.303, 0.304, 0.305, 0.306, 0.307, 0.313, 0.314, 0.315, 0.317,\n",
       "       0.318, 0.319, 0.323, 0.324, 0.325, 0.326, 0.328, 0.329, 0.33 ,\n",
       "       0.331, 0.332, 0.334, 0.335, 0.336, 0.337, 0.338, 0.34 , 0.341,\n",
       "       0.342, 0.343, 0.344, 0.345, 0.346, 0.347, 0.349, 0.351, 0.352,\n",
       "       0.355, 0.356, 0.358, 0.361, 0.362, 0.364, 0.365, 0.366, 0.368,\n",
       "       0.37 , 0.371, 0.374, 0.375, 0.376, 0.378, 0.38 , 0.381, 0.382,\n",
       "       0.383, 0.385, 0.388, 0.389, 0.391, 0.393, 0.394, 0.395, 0.396,\n",
       "       0.398, 0.399, 0.4  , 0.401, 0.402, 0.403, 0.404, 0.407, 0.408,\n",
       "       0.409, 0.411, 0.412, 0.415, 0.416, 0.417, 0.419, 0.42 , 0.421,\n",
       "       0.422, 0.423, 0.426, 0.427, 0.43 , 0.431, 0.432, 0.433, 0.434,\n",
       "       0.435, 0.439, 0.441, 0.443, 0.444, 0.446, 0.447, 0.451, 0.452,\n",
       "       0.453, 0.454, 0.455, 0.457, 0.46 , 0.463, 0.464, 0.465, 0.466,\n",
       "       0.467, 0.471, 0.472, 0.479, 0.482, 0.483, 0.484, 0.485, 0.487,\n",
       "       0.488, 0.491, 0.493, 0.495, 0.496, 0.497, 0.498, 0.499, 0.501,\n",
       "       0.502, 0.503, 0.507, 0.509, 0.51 , 0.512, 0.514, 0.515, 0.516,\n",
       "       0.52 , 0.525, 0.526, 0.527, 0.528, 0.529, 0.532, 0.534, 0.536,\n",
       "       0.537, 0.539, 0.542, 0.543, 0.545, 0.546, 0.547, 0.549, 0.551,\n",
       "       0.554, 0.557, 0.559, 0.56 , 0.561, 0.564, 0.565, 0.569, 0.571,\n",
       "       0.572, 0.575, 0.578, 0.58 , 0.582, 0.583, 0.586, 0.587, 0.588,\n",
       "       0.591, 0.593, 0.595, 0.597, 0.598, 0.6  , 0.601, 0.605, 0.607,\n",
       "       0.61 , 0.612, 0.613, 0.614, 0.615, 0.619, 0.624, 0.626, 0.627,\n",
       "       0.629, 0.63 , 0.631, 0.637, 0.64 , 0.645, 0.646, 0.647, 0.649,\n",
       "       0.652, 0.654, 0.655, 0.658, 0.66 , 0.661, 0.665, 0.666, 0.672,\n",
       "       0.673, 0.674, 0.677, 0.678, 0.68 , 0.682, 0.686, 0.687, 0.692,\n",
       "       0.693, 0.695, 0.696, 0.698, 0.699, 0.702, 0.703, 0.704, 0.705,\n",
       "       0.709, 0.711, 0.717, 0.718, 0.719, 0.721, 0.722, 0.725, 0.727,\n",
       "       0.73 , 0.731, 0.732, 0.733, 0.734, 0.735, 0.738, 0.741, 0.742,\n",
       "       0.743, 0.744, 0.745, 0.748, 0.757, 0.759, 0.761, 0.766, 0.767,\n",
       "       0.771, 0.773, 0.785, 0.787, 0.801, 0.803, 0.804, 0.805, 0.808,\n",
       "       0.813, 0.816, 0.817, 0.821, 0.825, 0.826, 0.828, 0.831, 0.832,\n",
       "       0.833, 0.839, 0.84 , 0.845, 0.851, 0.855, 0.856, 0.867, 0.871,\n",
       "       0.874, 0.875, 0.878, 0.88 , 0.881, 0.886, 0.892, 0.893, 0.904,\n",
       "       0.905, 0.917, 0.925, 0.926, 0.93 , 0.932, 0.933, 0.944, 0.947,\n",
       "       0.949, 0.955, 0.956, 0.962, 0.966, 0.968, 0.97 , 0.997, 1.001,\n",
       "       1.021, 1.022, 1.034, 1.057, 1.072, 1.076, 1.095, 1.096, 1.101,\n",
       "       1.114, 1.127, 1.136, 1.138, 1.144, 1.154, 1.159, 1.162, 1.174,\n",
       "       1.182, 1.189, 1.191, 1.213, 1.222, 1.224, 1.251, 1.258, 1.268,\n",
       "       1.282, 1.292, 1.318, 1.321, 1.353, 1.39 , 1.391, 1.394, 1.4  ,\n",
       "       1.441, 1.461, 1.476, 1.6  , 1.698, 1.699, 1.731, 1.781, 1.893,\n",
       "       2.137, 2.288, 2.329, 2.42 ])"
      ]
     },
     "execution_count": 47,
     "metadata": {},
     "output_type": "execute_result"
    }
   ],
   "source": [
    "uniqueval('pedi')"
   ]
  },
  {
   "cell_type": "code",
   "execution_count": 48,
   "id": "d4acd3e1",
   "metadata": {},
   "outputs": [
    {
     "data": {
      "text/plain": [
       "array([21, 22, 23, 24, 25, 26, 27, 28, 29, 30, 31, 32, 33, 34, 35, 36, 37,\n",
       "       38, 39, 40, 41, 42, 43, 44, 45, 46, 47, 48, 49, 50, 51, 52, 53, 54,\n",
       "       55, 56, 57, 58, 59, 60, 61, 62, 63, 64, 65, 66, 67, 68, 69, 70, 72,\n",
       "       81], dtype=int64)"
      ]
     },
     "execution_count": 48,
     "metadata": {},
     "output_type": "execute_result"
    }
   ],
   "source": [
    "uniqueval('age')"
   ]
  },
  {
   "cell_type": "code",
   "execution_count": 49,
   "id": "9e82fdaf",
   "metadata": {},
   "outputs": [
    {
     "data": {
      "text/plain": [
       "array(['tested_negative', 'tested_positive'], dtype=object)"
      ]
     },
     "execution_count": 49,
     "metadata": {},
     "output_type": "execute_result"
    }
   ],
   "source": [
    "uniqueval('class')"
   ]
  },
  {
   "cell_type": "code",
   "execution_count": 86,
   "id": "a7b7111d",
   "metadata": {},
   "outputs": [],
   "source": [
    "def clas(value):\n",
    "    if value == 'tested_negative':\n",
    "        return 0\n",
    "    elif value == 'tested_positive':\n",
    "        return 1"
   ]
  },
  {
   "cell_type": "code",
   "execution_count": 87,
   "id": "17207ec3",
   "metadata": {},
   "outputs": [
    {
     "data": {
      "text/html": [
       "<div>\n",
       "<style scoped>\n",
       "    .dataframe tbody tr th:only-of-type {\n",
       "        vertical-align: middle;\n",
       "    }\n",
       "\n",
       "    .dataframe tbody tr th {\n",
       "        vertical-align: top;\n",
       "    }\n",
       "\n",
       "    .dataframe thead th {\n",
       "        text-align: right;\n",
       "    }\n",
       "</style>\n",
       "<table border=\"1\" class=\"dataframe\">\n",
       "  <thead>\n",
       "    <tr style=\"text-align: right;\">\n",
       "      <th></th>\n",
       "      <th>preg</th>\n",
       "      <th>plas</th>\n",
       "      <th>pres</th>\n",
       "      <th>skin</th>\n",
       "      <th>insu</th>\n",
       "      <th>mass</th>\n",
       "      <th>pedi</th>\n",
       "      <th>age</th>\n",
       "      <th>class</th>\n",
       "    </tr>\n",
       "  </thead>\n",
       "  <tbody>\n",
       "    <tr>\n",
       "      <th>0</th>\n",
       "      <td>6</td>\n",
       "      <td>148</td>\n",
       "      <td>72</td>\n",
       "      <td>35</td>\n",
       "      <td>0</td>\n",
       "      <td>33.6</td>\n",
       "      <td>0.627</td>\n",
       "      <td>50</td>\n",
       "      <td>1</td>\n",
       "    </tr>\n",
       "    <tr>\n",
       "      <th>1</th>\n",
       "      <td>1</td>\n",
       "      <td>85</td>\n",
       "      <td>66</td>\n",
       "      <td>29</td>\n",
       "      <td>0</td>\n",
       "      <td>26.6</td>\n",
       "      <td>0.351</td>\n",
       "      <td>31</td>\n",
       "      <td>0</td>\n",
       "    </tr>\n",
       "    <tr>\n",
       "      <th>2</th>\n",
       "      <td>8</td>\n",
       "      <td>183</td>\n",
       "      <td>64</td>\n",
       "      <td>0</td>\n",
       "      <td>0</td>\n",
       "      <td>23.3</td>\n",
       "      <td>0.672</td>\n",
       "      <td>32</td>\n",
       "      <td>1</td>\n",
       "    </tr>\n",
       "    <tr>\n",
       "      <th>3</th>\n",
       "      <td>1</td>\n",
       "      <td>89</td>\n",
       "      <td>66</td>\n",
       "      <td>23</td>\n",
       "      <td>94</td>\n",
       "      <td>28.1</td>\n",
       "      <td>0.167</td>\n",
       "      <td>21</td>\n",
       "      <td>0</td>\n",
       "    </tr>\n",
       "    <tr>\n",
       "      <th>4</th>\n",
       "      <td>0</td>\n",
       "      <td>137</td>\n",
       "      <td>40</td>\n",
       "      <td>35</td>\n",
       "      <td>168</td>\n",
       "      <td>43.1</td>\n",
       "      <td>2.288</td>\n",
       "      <td>33</td>\n",
       "      <td>1</td>\n",
       "    </tr>\n",
       "    <tr>\n",
       "      <th>...</th>\n",
       "      <td>...</td>\n",
       "      <td>...</td>\n",
       "      <td>...</td>\n",
       "      <td>...</td>\n",
       "      <td>...</td>\n",
       "      <td>...</td>\n",
       "      <td>...</td>\n",
       "      <td>...</td>\n",
       "      <td>...</td>\n",
       "    </tr>\n",
       "    <tr>\n",
       "      <th>763</th>\n",
       "      <td>10</td>\n",
       "      <td>101</td>\n",
       "      <td>76</td>\n",
       "      <td>48</td>\n",
       "      <td>180</td>\n",
       "      <td>32.9</td>\n",
       "      <td>0.171</td>\n",
       "      <td>63</td>\n",
       "      <td>0</td>\n",
       "    </tr>\n",
       "    <tr>\n",
       "      <th>764</th>\n",
       "      <td>2</td>\n",
       "      <td>122</td>\n",
       "      <td>70</td>\n",
       "      <td>27</td>\n",
       "      <td>0</td>\n",
       "      <td>36.8</td>\n",
       "      <td>0.340</td>\n",
       "      <td>27</td>\n",
       "      <td>0</td>\n",
       "    </tr>\n",
       "    <tr>\n",
       "      <th>765</th>\n",
       "      <td>5</td>\n",
       "      <td>121</td>\n",
       "      <td>72</td>\n",
       "      <td>23</td>\n",
       "      <td>112</td>\n",
       "      <td>26.2</td>\n",
       "      <td>0.245</td>\n",
       "      <td>30</td>\n",
       "      <td>0</td>\n",
       "    </tr>\n",
       "    <tr>\n",
       "      <th>766</th>\n",
       "      <td>1</td>\n",
       "      <td>126</td>\n",
       "      <td>60</td>\n",
       "      <td>0</td>\n",
       "      <td>0</td>\n",
       "      <td>30.1</td>\n",
       "      <td>0.349</td>\n",
       "      <td>47</td>\n",
       "      <td>1</td>\n",
       "    </tr>\n",
       "    <tr>\n",
       "      <th>767</th>\n",
       "      <td>1</td>\n",
       "      <td>93</td>\n",
       "      <td>70</td>\n",
       "      <td>31</td>\n",
       "      <td>0</td>\n",
       "      <td>30.4</td>\n",
       "      <td>0.315</td>\n",
       "      <td>23</td>\n",
       "      <td>0</td>\n",
       "    </tr>\n",
       "  </tbody>\n",
       "</table>\n",
       "<p>768 rows × 9 columns</p>\n",
       "</div>"
      ],
      "text/plain": [
       "     preg  plas  pres  skin  insu  mass   pedi  age  class\n",
       "0       6   148    72    35     0  33.6  0.627   50      1\n",
       "1       1    85    66    29     0  26.6  0.351   31      0\n",
       "2       8   183    64     0     0  23.3  0.672   32      1\n",
       "3       1    89    66    23    94  28.1  0.167   21      0\n",
       "4       0   137    40    35   168  43.1  2.288   33      1\n",
       "..    ...   ...   ...   ...   ...   ...    ...  ...    ...\n",
       "763    10   101    76    48   180  32.9  0.171   63      0\n",
       "764     2   122    70    27     0  36.8  0.340   27      0\n",
       "765     5   121    72    23   112  26.2  0.245   30      0\n",
       "766     1   126    60     0     0  30.1  0.349   47      1\n",
       "767     1    93    70    31     0  30.4  0.315   23      0\n",
       "\n",
       "[768 rows x 9 columns]"
      ]
     },
     "execution_count": 87,
     "metadata": {},
     "output_type": "execute_result"
    }
   ],
   "source": [
    "diabetes_dataset['class'] = diabetes_dataset['class'].apply(clas)\n",
    "diabetes_dataset"
   ]
  },
  {
   "cell_type": "code",
   "execution_count": 91,
   "id": "5dbb14e1",
   "metadata": {},
   "outputs": [],
   "source": [
    "def modelling(df1):\n",
    "    \n",
    "    x = df1.drop('class', axis = 1)\n",
    "    y = df1['class']\n",
    "    x_train_new, x_test_new, y_train_new, y_test_new = train_test_split(x, y, test_size=0.3, random_state=42) \n",
    "    \n",
    "    tree = DecisionTreeClassifier()\n",
    "    tree.fit(x_train_new, y_train_new)\n",
    "    \n",
    "    pred_new = tree.predict(x_test_new)\n",
    "    \n",
    "    acc_new = tree.score(x_test_new, y_test_new)\n",
    "    a = mean_absolute_error(y_test_new, pred_new)\n",
    "    print(\"Acurray on test set: {:.2f}%\".format(acc_new*100))\n",
    "    print(\"mean_absolute_error of the test set: {:.2f}\".format(a))"
   ]
  },
  {
   "cell_type": "code",
   "execution_count": 92,
   "id": "07564562",
   "metadata": {},
   "outputs": [
    {
     "name": "stdout",
     "output_type": "stream",
     "text": [
      "Acurray on test set: 71.43%\n",
      "mean_absolute_error of the test set: 0.29\n"
     ]
    }
   ],
   "source": [
    "modelling(diabetes_dataset)"
   ]
  },
  {
   "cell_type": "code",
   "execution_count": 94,
   "id": "5bffeed7",
   "metadata": {},
   "outputs": [
    {
     "data": {
      "text/plain": [
       "0.3116883116883117"
      ]
     },
     "execution_count": 94,
     "metadata": {},
     "output_type": "execute_result"
    }
   ],
   "source": [
    "from sklearn.neighbors import KNeighborsClassifier\n",
    "from sklearn.metrics import mean_absolute_error\n",
    "x = diabetes_dataset.drop('class', axis = 1)\n",
    "y = diabetes_dataset['class']\n",
    "x_train_new, x_test_new, y_train_new, y_test_new = train_test_split(x, y, test_size=0.3, random_state=42) \n",
    "    \n",
    "knn = KNeighborsClassifier(n_neighbors =5)\n",
    "knn.fit(x_train_new, y_train_new)    \n",
    "y_pr = knn.predict(x_test_new)\n",
    "mean_absolute_error(y_test_new, y_pr)"
   ]
  },
  {
   "cell_type": "code",
   "execution_count": 95,
   "id": "491757d6",
   "metadata": {},
   "outputs": [
    {
     "data": {
      "text/plain": [
       "0.24675324675324675"
      ]
     },
     "execution_count": 95,
     "metadata": {},
     "output_type": "execute_result"
    }
   ],
   "source": [
    "from sklearn.linear_model import LogisticRegression\n",
    "from sklearn.metrics import accuracy_score\n",
    "# Initiatlize the model\n",
    "logreg = LogisticRegression(solver='liblinear', random_state = 0)\n",
    "\n",
    "# Fit the model\n",
    "logreg.fit(x_train_new, y_train_new)\n",
    "\n",
    "# Predict data points \n",
    "y_pred_test = logreg.predict(x_test_new)\n",
    "\n",
    "mean_absolute_error(y_test_new,y_pred_test )"
   ]
  }
 ],
 "metadata": {
  "kernelspec": {
   "display_name": "Python 3",
   "language": "python",
   "name": "python3"
  },
  "language_info": {
   "codemirror_mode": {
    "name": "ipython",
    "version": 3
   },
   "file_extension": ".py",
   "mimetype": "text/x-python",
   "name": "python",
   "nbconvert_exporter": "python",
   "pygments_lexer": "ipython3",
   "version": "3.8.8"
  }
 },
 "nbformat": 4,
 "nbformat_minor": 5
}
